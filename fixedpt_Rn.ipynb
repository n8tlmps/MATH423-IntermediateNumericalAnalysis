{
 "cells": [
  {
   "cell_type": "code",
   "execution_count": 2,
   "id": "415af51d-4e70-4a4c-83b6-373e5a9b73e6",
   "metadata": {},
   "outputs": [],
   "source": [
    "import numpy as np\n",
    "\n",
    "g1 = lambda x1, x2, x3: (13 - x2**2 + 4*x3) / 15\n",
    "g2 = lambda x1, x2, x3: (11 + x3 - x1**2) / 10\n",
    "g3 = lambda x1, x2, x3: (22 + x2**2) / 25\n",
    "\n",
    "G = np.array([g1, g2, g3])\n",
    "\n",
    "p0 = (0., 0., 0.)\n",
    "tol = 1e-8\n",
    "maxN = 1000\n",
    "\n",
    "# fixed-point iteration\n",
    "iter = 0\n",
    "p = np.array([g(*p0) for g in G])\n",
    "while iter < maxN and np.linalg.norm(p - p0, ord=np.inf) > tol:\n",
    "    p0 = p\n",
    "    p = np.array([g(*p0) for g in G])\n",
    "    iter += 1\n"
   ]
  },
  {
   "cell_type": "code",
   "execution_count": 3,
   "id": "bcadb7f1-8464-4b4f-ab3d-80f86b7445e9",
   "metadata": {},
   "outputs": [
    {
     "name": "stdout",
     "output_type": "stream",
     "text": [
      "Converged in 12 iterations\n",
      "Fixed point: [1.03534561 1.08551936 0.92713409]\n"
     ]
    }
   ],
   "source": [
    "print(f\"Converged in {iter} iterations\")\n",
    "print(f\"Fixed point: {p}\")"
   ]
  },
  {
   "cell_type": "code",
   "execution_count": 4,
   "id": "33775159-24dd-4fbb-a7b6-cce3a23c49de",
   "metadata": {},
   "outputs": [
    {
     "name": "stdout",
     "output_type": "stream",
     "text": [
      "G(p) = [1.03534561 1.08551936 0.92713409]\n",
      "p = [1.03534561 1.08551936 0.92713409]\n"
     ]
    }
   ],
   "source": [
    "Gp = np.array([g(*p) for g in G])\n",
    "is_fixed_pt = np.allclose(Gp, p, atol=tol)\n",
    "\n",
    "print(f\"G(p) = {Gp}\")\n",
    "print(f\"p = {p}\")"
   ]
  },
  {
   "cell_type": "markdown",
   "id": "facd1926-5841-4ab0-9628-29930f5df382",
   "metadata": {},
   "source": [
    "p is the fixed pooint of G with accuracy $10^{-8}$."
   ]
  }
 ],
 "metadata": {
  "kernelspec": {
   "display_name": "Python 3 (ipykernel)",
   "language": "python",
   "name": "python3"
  },
  "language_info": {
   "codemirror_mode": {
    "name": "ipython",
    "version": 3
   },
   "file_extension": ".py",
   "mimetype": "text/x-python",
   "name": "python",
   "nbconvert_exporter": "python",
   "pygments_lexer": "ipython3",
   "version": "3.12.7"
  }
 },
 "nbformat": 4,
 "nbformat_minor": 5
}
