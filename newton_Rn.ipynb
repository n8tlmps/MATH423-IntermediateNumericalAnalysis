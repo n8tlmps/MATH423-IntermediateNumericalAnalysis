{
 "cells": [
  {
   "cell_type": "markdown",
   "id": "e9182204-4469-4bb6-82dc-ac3c3c2999d7",
   "metadata": {},
   "source": [
    "# Q1"
   ]
  },
  {
   "cell_type": "code",
   "execution_count": 1,
   "id": "6b3707e2-e425-4def-ab1d-37eea722c48b",
   "metadata": {},
   "outputs": [
    {
     "name": "stdout",
     "output_type": "stream",
     "text": [
      "Root from scipy.optimize.fsolve: [1.8293836]\n"
     ]
    }
   ],
   "source": [
    "\"\"\"\n",
    "scipy.optimize.fsolve\n",
    "\n",
    "fsolve(func, x0, args=(), fprime=None, full_output=0, col_deriv=0, xtol=1.49012e-08, maxfev=0, band=None, epsfcn=None, factor=100, diag=None)[source]#\n",
    "Find the roots of a function.\n",
    "\n",
    "Return the roots of the (non-linear) equations defined by func(x) = 0 given a starting estimate.\n",
    "\"\"\"\n",
    "\n",
    "import numpy as np\n",
    "from scipy.optimize import fsolve\n",
    "\n",
    "func = lambda x: np.exp(x) + 2**(-x) + 2*np.cos(x) - 6\n",
    "x0 = 1.5\n",
    "\n",
    "root = fsolve(func, x0)\n",
    "print(f\"Root from scipy.optimize.fsolve: {root}\")"
   ]
  },
  {
   "cell_type": "code",
   "execution_count": 2,
   "id": "102a1846-60cf-48a2-8fd4-50d2fdf985fc",
   "metadata": {},
   "outputs": [
    {
     "name": "stdout",
     "output_type": "stream",
     "text": [
      "Root from scipy.optimize.root: [1.8293836]\n"
     ]
    }
   ],
   "source": [
    "\"\"\"\n",
    "scipy.optimize.root\n",
    "\n",
    "root(fun, x0, args=(), method='hybr', jac=None, tol=None, callback=None, options=None)\n",
    "Find a root of a vector function.\n",
    "\"\"\"\n",
    "\n",
    "import numpy as np\n",
    "from scipy import optimize\n",
    "\n",
    "x0 = 1.5\n",
    "fun = lambda x: np.exp(x) + 2**(-x) + 2*np.cos(x) - 6\n",
    "jac = lambda x: np.exp(x) -2**(-x) * np.log(2) - 2*np.sin(x)\n",
    "sol = optimize.root(fun, x0, jac=jac, method='hybr')\n",
    "root_ = sol.x\n",
    "print(f\"Root from scipy.optimize.root: {root_}\")"
   ]
  },
  {
   "cell_type": "markdown",
   "id": "15e345d0-523d-43af-b8bc-8d7257c8727c",
   "metadata": {},
   "source": [
    "# Q2"
   ]
  },
  {
   "cell_type": "code",
   "execution_count": 3,
   "id": "a3309ce1-676e-4b0d-be60-cbfc9af8405c",
   "metadata": {},
   "outputs": [
    {
     "data": {
      "text/plain": [
       "array([-0.38097875, -1.83234675,  0.84322997])"
      ]
     },
     "execution_count": 3,
     "metadata": {},
     "output_type": "execute_result"
    }
   ],
   "source": [
    "import numpy as np\n",
    "from scipy.optimize import fsolve\n",
    "def func(x):\n",
    "    return [\n",
    "        x[0]**3 + x[0]**2 * x[1] - x[0]*x[2],\n",
    "        np.exp(x[0]) + np.exp(x[1]) - x[2],\n",
    "        x[1]**2 - 2*x[0]*x[2] - 4\n",
    "    ]\n",
    "\n",
    "x0 = [-1, -2, 1]\n",
    "root = fsolve(func, x0)\n",
    "root"
   ]
  },
  {
   "cell_type": "code",
   "execution_count": 10,
   "id": "a2471b91-4c06-4b07-82f3-ac3dda7f45e7",
   "metadata": {},
   "outputs": [
    {
     "name": "stdout",
     "output_type": "stream",
     "text": [
      "Solution: [-0.38097875 -1.83234675  0.84322997]\n"
     ]
    }
   ],
   "source": [
    "import numpy as np\n",
    "from scipy import optimize\n",
    "\n",
    "def func(x):\n",
    "    return [\n",
    "        x[0]**3 + x[0]**2 * x[1] - x[0]*x[2],\n",
    "        np.exp(x[0]) + np.exp(x[1]) - x[2],\n",
    "        x[1]**2 - 2*x[0]*x[2] - 4\n",
    "    ]\n",
    "\n",
    "def jac(x):\n",
    "    return np.array([\n",
    "        [3*x[0]**2 + 2*x[0]*x[1] - x[2], x[0]**2, -x[0]],\n",
    "        [np.exp(x[0]), np.exp(x[1]), -1],\n",
    "        [-2*x[2], 2*x[1], -2*x[0]]\n",
    "    ])\n",
    "\n",
    "x0 = [-1, -2, 1]\n",
    "\n",
    "sol = optimize.root(func, x0, jac=jac, method='hybr')\n",
    "root_ = sol.x\n",
    "print(\"Solution:\", root_)\n"
   ]
  },
  {
   "cell_type": "code",
   "execution_count": 12,
   "id": "05c8c986",
   "metadata": {},
   "outputs": [
    {
     "name": "stdout",
     "output_type": "stream",
     "text": [
      "F(x) = [-1.4205525644683803e-11, -3.8835601401387976e-13, 7.502443111206958e-12]\n"
     ]
    }
   ],
   "source": [
    "print(f\"F(x) = {func(root)}\")\n"
   ]
  }
 ],
 "metadata": {
  "kernelspec": {
   "display_name": "base",
   "language": "python",
   "name": "python3"
  },
  "language_info": {
   "codemirror_mode": {
    "name": "ipython",
    "version": 3
   },
   "file_extension": ".py",
   "mimetype": "text/x-python",
   "name": "python",
   "nbconvert_exporter": "python",
   "pygments_lexer": "ipython3",
   "version": "3.10.9"
  }
 },
 "nbformat": 4,
 "nbformat_minor": 5
}
